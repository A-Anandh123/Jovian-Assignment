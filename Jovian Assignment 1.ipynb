{
 "cells": [
  {
   "cell_type": "markdown",
   "id": "e0200a29",
   "metadata": {},
   "source": [
    "### Exercise - Data Analysis for Vacation Planning\n",
    "\n",
    "You're planning a vacation, and you need to decide which city you want to visit. You have shortlisted four cities and identified the return flight cost, daily hotel cost, and weekly car rental cost. While renting a car, you need to pay for entire weeks, even if you return the car sooner.\n",
    "\n",
    "\n",
    "| City | Return Flight (`$`) | Hotel per day (`$`) | Weekly Car Rental  (`$`) | \n",
    "|------|--------------------------|------------------|------------------------|\n",
    "| Paris|       200                |       20         |          200           |\n",
    "| London|      250                |       30         |          120           |\n",
    "| Dubai|       370                |       15         |           80           |\n",
    "| Mumbai|      450                |       10         |           70           |         \n",
    "\n",
    "\n",
    "Answer the following questions using the data above:\n",
    "\n",
    "1. If you're planning a 1-week long trip, which city should you visit to spend the least amount of money?\n",
    "2. How does the answer to the previous question change if you change the trip's duration to four days, ten days or two weeks?\n",
    "3. If your total budget for the trip is `$600`, which city should you visit to maximize the duration of your trip? Which city should you visit if you want to minimize the duration?\n",
    "4. How does the answer to the previous question change if your budget is `$1000`, `$2000`, or `$1500`?\n",
    "\n"
   ]
  },
  {
   "cell_type": "markdown",
   "id": "c5d0717c",
   "metadata": {},
   "source": [
    "Lets Solve the above exercise by use of python here.."
   ]
  },
  {
   "cell_type": "code",
   "execution_count": 1,
   "id": "8d6f80e9",
   "metadata": {},
   "outputs": [],
   "source": [
    "from math import ceil"
   ]
  },
  {
   "cell_type": "markdown",
   "id": "06205cec",
   "metadata": {},
   "source": [
    "**The code provided here defines a class Tour with methods for finding the maximum and minimum costs and durations for the tours.**"
   ]
  },
  {
   "cell_type": "code",
   "execution_count": 2,
   "id": "807984d3",
   "metadata": {},
   "outputs": [],
   "source": [
    "class Tour:\n",
    "    Tour_Details = {}\n",
    "    \n",
    "        #Here the method for storing tour details for different cities and stores them in a dictionary.\n",
    "    \n",
    "    def details(self,City, Flight_cost, Hotel_cost, Car_rent):\n",
    "        Tour.Tour_Details [City] = (Flight_cost, Hotel_cost, Car_rent)\n",
    "        \n",
    "            # This static method calculates the cost of the tour for a given number of days in each city.\n",
    "    @staticmethod\n",
    "    def find_cost(days):\n",
    "        cost_details = {}\n",
    "        for City,(Flight_cost, Hotel_cost, Car_rent) in Tour.Tour_Details.items():\n",
    "            cost = (Flight_cost + (Hotel_cost * days) +((Car_rent) * (ceil(days / 7))))\n",
    "            cost_details[City] = cost\n",
    "        max_cost= max(cost_details.values())\n",
    "        min_cost = min(cost_details.values())\n",
    "        max_cost_city = []\n",
    "        min_cost_city = []\n",
    "        for key, value in cost_details.items():\n",
    "            if value == max_cost:\n",
    "                max_cost_city.append(key)\n",
    "                if min_cost == max_cost:\n",
    "                    min_cost_city.append(key)\n",
    "            elif value == min_cost:\n",
    "                min_cost_city.append(key)\n",
    "        return max_cost ,min_cost ,'/'.join (max_cost_city),'/'.join (min_cost_city)\n",
    "    \n",
    "        #This static method calculates the maximum and minimum durations for a given budget in each city.\n",
    "    # It calculates the duration by iteratively subtracting the hotel cost and car rent\n",
    "    # until the remaining budget is not enough for another day's hotel and car rent.\n",
    "    @staticmethod\n",
    "    def finding_min_max_duration(budget):\n",
    "        Duration = {}\n",
    "        for City, (Flight_cost, Hotel_cost, Car_rent) in Tour.Tour_Details.items():\n",
    "            n = budget - Flight_cost\n",
    "            if n >= (Car_rent + Hotel_cost):\n",
    "                day = 1\n",
    "                while n >= Hotel_cost:\n",
    "                    if day in range(1, 140, 7):\n",
    "                        if n<= Car_rent:\n",
    "                            break\n",
    "                        n = n - Car_rent\n",
    "                    n = n - (Hotel_cost)\n",
    "                    Duration[City] = day\n",
    "                    day += 1\n",
    "            else:\n",
    "                print('Budget is not enough for Travel')\n",
    "        max_duration_city = []\n",
    "        min_duration_city = []\n",
    "        max_duration= max(Duration.values())\n",
    "        min_duration = min(Duration.values())\n",
    "        for key,value in Duration.items():\n",
    "            if value == max_duration:\n",
    "                max_duration_city.append(key)\n",
    "                if min_duration == max_duration:\n",
    "                    min_duration_city.append(key)\n",
    "            elif value == min_duration:\n",
    "                min_duration_city.append(key)\n",
    "        return max_duration,'/'.join (max_duration_city), min_duration, '/'.join (min_duration_city)\n",
    "    #To create instances of the Tour class for different cities ,cost and Duration.\n",
    "City_Paris = City_London= City_Dubai =  City_Mumbai =  cost= duration = Tour()\n",
    "City_Paris.details ('Paris', 200, 20, 200)\n",
    "City_London.details ('London', 250, 30, 120)\n",
    "City_Dubai.details ('Dubai', 370, 15, 80)\n",
    "City_Mumbai.details ('Mumbai', 450, 10, 70)\n"
   ]
  },
  {
   "cell_type": "markdown",
   "id": "3374d777",
   "metadata": {},
   "source": [
    "***max. and min. cost of Travel and the respected cities can be found by feeding either the no of days of vacation or the budget.***\n"
   ]
  },
  {
   "cell_type": "markdown",
   "id": "0d9ab575",
   "metadata": {},
   "source": [
    "Question 1) \n",
    "If you're planning a 1-week long trip, which city should you visit to spend the least amount of money?\n"
   ]
  },
  {
   "cell_type": "code",
   "execution_count": 3,
   "id": "3327e748",
   "metadata": {},
   "outputs": [],
   "source": [
    "max_cost ,min_cost ,max_cost_city, min_cost_city = cost.find_cost(days=7)\n"
   ]
  },
  {
   "cell_type": "code",
   "execution_count": 4,
   "id": "5fef2a66",
   "metadata": {},
   "outputs": [
    {
     "name": "stdout",
     "output_type": "stream",
     "text": [
      "Answer(1): For a week-long trip , one should visit Paris to spend the least amount of about 540 $ when compared to other cities..\n"
     ]
    }
   ],
   "source": [
    "print('Answer(1): For a week-long trip , one should visit', min_cost_city,'to spend the least amount of about', min_cost,'$ when compared to other cities..')\n"
   ]
  },
  {
   "cell_type": "markdown",
   "id": "3d693f0e",
   "metadata": {},
   "source": [
    "Question 2-4) How does the answer to the previous question change if you change the trip's duration to four days, ten days or two weeks?\n"
   ]
  },
  {
   "cell_type": "code",
   "execution_count": 5,
   "id": "b408dad3",
   "metadata": {},
   "outputs": [
    {
     "name": "stdout",
     "output_type": "stream",
     "text": [
      "Answer(2): For Four-days trip , one should visit Paris to spend the least amount of about 480 $ when compared to other cities..\n",
      "Answer(3): For Ten-days trip , one should visit Dubai to spend the least amount of about 680 $ when compared to other cities..\n",
      "Answer(4): For two week-long trip , one should visit Mumbai to spend the least amount of about 730 $ when compared to other cities..\n"
     ]
    }
   ],
   "source": [
    "max_cost ,min_cost ,max_cost_city, min_cost_city = cost.find_cost(days=4)\n",
    "print('Answer(2): For Four-days trip , one should visit', min_cost_city,'to spend the least amount of about', min_cost,'$ when compared to other cities..')\n",
    "\n",
    "max_cost ,min_cost ,max_cost_city, min_cost_city = cost.find_cost(days=10)\n",
    "print('Answer(3): For Ten-days trip , one should visit', min_cost_city,'to spend the least amount of about', min_cost,'$ when compared to other cities..')\n",
    "\n",
    "max_cost ,min_cost ,max_cost_city, min_cost_city = cost.find_cost(days=14)\n",
    "print('Answer(4): For two week-long trip , one should visit', min_cost_city,'to spend the least amount of about', min_cost,'$ when compared to other cities..')\n"
   ]
  },
  {
   "cell_type": "markdown",
   "id": "bba12ff7",
   "metadata": {},
   "source": [
    "Question 5) If your total budget for the trip is $600, which city should you visit to maximize the duration of your trip?\n",
    " Which city should you visit if you want to minimize the duration?"
   ]
  },
  {
   "cell_type": "code",
   "execution_count": 6,
   "id": "e73949f5",
   "metadata": {},
   "outputs": [
    {
     "name": "stdout",
     "output_type": "stream",
     "text": [
      "Answer(5): With a budget of  600$ , one should pick Paris/London/Dubai/Mumbai for a shorter duration trip of 7 days and Paris/London/Dubai/Mumbai for a longer duration trip of 7 days.\n"
     ]
    }
   ],
   "source": [
    "max_duration,max_duration_city,min_duration,min_duration_city= Tour. finding_min_max_duration(budget = 600)\n",
    "print('Answer(5): With a budget of  600$ , one should pick',min_duration_city,'for a shorter duration trip of',min_duration,'days and',max_duration_city,'for a longer duration trip of',max_duration,'days.')\n"
   ]
  },
  {
   "cell_type": "markdown",
   "id": "78b0684c",
   "metadata": {},
   "source": [
    "Question 6-8) How does the answer to the previous question change if your budget is $ 1000, $2000, or $1500?\n"
   ]
  },
  {
   "cell_type": "code",
   "execution_count": 7,
   "id": "aef1351b",
   "metadata": {
    "scrolled": true
   },
   "outputs": [
    {
     "name": "stdout",
     "output_type": "stream",
     "text": [
      "Answer(6): With a budget of  1000$ , one should pick Paris/London for a shorter duration trip of 14 days and Mumbai for a longer duration trip of 27 days.\n",
      "Answer(7): With a budget of  2000$ , one should pick Paris/London for a shorter duration trip of 35 days and Mumbai for a longer duration trip of 77 days.\n",
      "Answer(8): With a budget of  1500$ , one should pick Paris/London for a shorter duration trip of 25 days and Mumbai for a longer duration trip of 49 days.\n"
     ]
    }
   ],
   "source": [
    "max_duration,max_duration_city,min_duration,min_duration_city= Tour. finding_min_max_duration(budget = 1000)\n",
    "print('Answer(6): With a budget of  1000$ , one should pick',min_duration_city,'for a shorter duration trip of',min_duration,'days and',max_duration_city,'for a longer duration trip of',max_duration,'days.')\n",
    "max_duration,max_duration_city,min_duration,min_duration_city= Tour. finding_min_max_duration(budget = 2000)\n",
    "print('Answer(7): With a budget of  2000$ , one should pick',min_duration_city,'for a shorter duration trip of',min_duration,'days and',max_duration_city,'for a longer duration trip of',max_duration,'days.')\n",
    "max_duration,max_duration_city,min_duration,min_duration_city= Tour. finding_min_max_duration(budget = 1500)\n",
    "print('Answer(8): With a budget of  1500$ , one should pick',min_duration_city,'for a shorter duration trip of',min_duration,'days and',max_duration_city,'for a longer duration trip of',max_duration,'days.')\n"
   ]
  },
  {
   "cell_type": "markdown",
   "id": "f59d0d4b",
   "metadata": {},
   "source": [
    "---------------------------------Thankyou-----------------------------------------"
   ]
  },
  {
   "cell_type": "code",
   "execution_count": null,
   "id": "3addfcc5",
   "metadata": {},
   "outputs": [],
   "source": []
  }
 ],
 "metadata": {
  "kernelspec": {
   "display_name": "Python 3 (ipykernel)",
   "language": "python",
   "name": "python3"
  },
  "language_info": {
   "codemirror_mode": {
    "name": "ipython",
    "version": 3
   },
   "file_extension": ".py",
   "mimetype": "text/x-python",
   "name": "python",
   "nbconvert_exporter": "python",
   "pygments_lexer": "ipython3",
   "version": "3.11.2"
  }
 },
 "nbformat": 4,
 "nbformat_minor": 5
}
